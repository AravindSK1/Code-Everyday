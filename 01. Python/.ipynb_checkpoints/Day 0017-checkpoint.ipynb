{
 "cells": [
  {
   "cell_type": "markdown",
   "metadata": {},
   "source": [
    "### Find the kth largest element in an unsorted array. Not the kth distinct element"
   ]
  },
  {
   "cell_type": "code",
   "execution_count": 1,
   "metadata": {},
   "outputs": [],
   "source": [
    "def kthlargest_element(nums, k):\n",
    "    #quick select\n",
    "    pivot=random.choice(nums)\n",
    "    \n",
    "    #left -> smaller than pivot\n",
    "    left = [x for x in nums if x < pivot]\n",
    "    #mid  -> equal to pivot\n",
    "    mid = [x for x in nums if x == pivot]\n",
    "    #right-> greater than pivot\n",
    "    right = [x for x in nums if x > pivot]\n",
    "    \n",
    "    # Since kth largest\n",
    "    M,R = len(mid), len(right)\n",
    "    \n",
    "    if k <= R:\n",
    "        return kthlargest_element(right, k)\n",
    "    elif k > (R + M):\n",
    "        return kthlargest_element(left, k-(R+M))\n",
    "    else:\n",
    "        return mid[0]"
   ]
  },
  {
   "cell_type": "code",
   "execution_count": 2,
   "metadata": {},
   "outputs": [],
   "source": [
    "import random\n",
    "\n",
    "nums = [3,2,1,5,6,4]\n",
    "k = 2\n",
    "\n",
    "nums1 = [3,2,3,1,2,4,5,5,6]\n",
    "k1 = 4"
   ]
  },
  {
   "cell_type": "code",
   "execution_count": 3,
   "metadata": {},
   "outputs": [
    {
     "data": {
      "text/plain": [
       "(5, 4)"
      ]
     },
     "execution_count": 3,
     "metadata": {},
     "output_type": "execute_result"
    }
   ],
   "source": [
    "kthlargest_element(nums, k), kthlargest_element(nums1, k1)"
   ]
  }
 ],
 "metadata": {
  "kernelspec": {
   "display_name": "Python 3",
   "language": "python",
   "name": "python3"
  },
  "language_info": {
   "codemirror_mode": {
    "name": "ipython",
    "version": 3
   },
   "file_extension": ".py",
   "mimetype": "text/x-python",
   "name": "python",
   "nbconvert_exporter": "python",
   "pygments_lexer": "ipython3",
   "version": "3.8.5"
  }
 },
 "nbformat": 4,
 "nbformat_minor": 4
}

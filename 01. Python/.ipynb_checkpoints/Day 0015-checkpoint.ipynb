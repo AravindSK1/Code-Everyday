{
 "cells": [
  {
   "cell_type": "markdown",
   "metadata": {},
   "source": [
    "## Quick Sort"
   ]
  },
  {
   "cell_type": "code",
   "execution_count": 1,
   "metadata": {},
   "outputs": [],
   "source": [
    "def quick_sort(sequence):\n",
    "    length = len(sequence)\n",
    "    \n",
    "    # base case\n",
    "    if length < 2:\n",
    "        return sequence\n",
    "    else:\n",
    "        pivot = sequence.pop() # last element\n",
    "        \n",
    "        items_greater = []\n",
    "        items_smaller = []\n",
    "        \n",
    "        for i in sequence:\n",
    "            if i > pivot:\n",
    "                items_greater.append(i)\n",
    "            else:\n",
    "                items_smaller.append(i)\n",
    "                \n",
    "        return quick_sort(items_smaller) + [pivot] + quick_sort(items_greater)"
   ]
  },
  {
   "cell_type": "code",
   "execution_count": 2,
   "metadata": {},
   "outputs": [
    {
     "data": {
      "text/plain": [
       "[0, 1, 1, 2, 3, 5, 6, 6, 23, 34]"
      ]
     },
     "execution_count": 2,
     "metadata": {},
     "output_type": "execute_result"
    }
   ],
   "source": [
    "arr = [1,34,3,2,5,23,0,1,6,6]\n",
    "quick_sort(arr)"
   ]
  }
 ],
 "metadata": {
  "kernelspec": {
   "display_name": "Python 3",
   "language": "python",
   "name": "python3"
  },
  "language_info": {
   "codemirror_mode": {
    "name": "ipython",
    "version": 3
   },
   "file_extension": ".py",
   "mimetype": "text/x-python",
   "name": "python",
   "nbconvert_exporter": "python",
   "pygments_lexer": "ipython3",
   "version": "3.8.5"
  }
 },
 "nbformat": 4,
 "nbformat_minor": 4
}

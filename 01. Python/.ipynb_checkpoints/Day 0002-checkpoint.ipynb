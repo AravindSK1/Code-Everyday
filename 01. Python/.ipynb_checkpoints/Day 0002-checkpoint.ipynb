{
 "cells": [
  {
   "cell_type": "markdown",
   "metadata": {},
   "source": [
    "### Author : Aravind Senthil Kumar\n",
    "#### Date : 12/3/2020\n",
    "#### Difficulty : Medium"
   ]
  },
  {
   "cell_type": "markdown",
   "metadata": {},
   "source": [
    "Problem 1:\n",
    "\n",
    "Given an array of integers nums and an integer k, return the total number of continuous subarrays whose sum equals to k.\n",
    "\n",
    "Reference: https://leetcode.com/problems/subarray-sum-equals-k/discuss/341399/Python-clear-explanation-with-code-and-example\n",
    "\n",
    "Note: I have used the same logic as in the reference link. Credit has to given where it's due"
   ]
  },
  {
   "cell_type": "code",
   "execution_count": 1,
   "metadata": {},
   "outputs": [],
   "source": [
    "def subarraysSumK(nums, k):\n",
    "    count = 0 #counter to capture the number of subarrays whose sum equals k\n",
    "    sums = 0  #captures the rolling sum\n",
    "    d = {}    #create a dictionary to capture and save the rolling sums\n",
    "    d[0] = 1  #set starting rolling sum to 0\n",
    "    \n",
    "    for i in range(len(nums)): # iterate through index\n",
    "        # 1. capture rolling sum\n",
    "        sums += nums[i]\n",
    "        \n",
    "        # 2. Check if the rolling sum is present in the dictionary.\n",
    "        ## 2.1 If so, \"increment\" the counter, if not set counter to 0\n",
    "        ## Note: dictionary.get method is a handy operation as it returns the value corresponding to the keyvalue\n",
    "        ## else, it let's the user to set a value\n",
    "        count += d.get(sums-k,0) # why sums-k? if sums-k = 0, ie) if it matches!\n",
    "        \n",
    "        ## 2.2 If the keyvalue is not present, \"add\" the keyvalue (rollingsum) in the dictionary and assign 1 as the count\n",
    "        ## for future reference\n",
    "        d[sums] = d.get(sums,0) + 1\n",
    "        \n",
    "    return count"
   ]
  },
  {
   "cell_type": "code",
   "execution_count": 2,
   "metadata": {},
   "outputs": [
    {
     "data": {
      "text/plain": [
       "4"
      ]
     },
     "execution_count": 2,
     "metadata": {},
     "output_type": "execute_result"
    }
   ],
   "source": [
    "nums = [1,1,1,3,5,6,7,1,2,3,4]\n",
    "k = 3\n",
    "\n",
    "subarraysSumK(nums, k)"
   ]
  },
  {
   "cell_type": "markdown",
   "metadata": {},
   "source": [
    "I decided to solve another similar problem involving subarrays to test myself!\n",
    "\n",
    "Problem 2:\n",
    "\n",
    "Given a list of non-negative numbers and a target integer k, write a function to check if the array has a continuous subarray of size at least 2 that sums up to a multiple of k, that is, sums up to n*k where n is also an integer."
   ]
  },
  {
   "cell_type": "code",
   "execution_count": 3,
   "metadata": {},
   "outputs": [],
   "source": [
    "def subarraySumKmultiple(nums, k):\n",
    "    single_element_matches = sum(list(map(lambda x: x == k, nums))) ## subtract this from the final count\n",
    "    count = 0\n",
    "    sums  = 0\n",
    "    d = {}\n",
    "    d[0] = 1\n",
    "    \n",
    "    for i in range(len(nums)):\n",
    "        sums  += nums[i]\n",
    "        count += d.get(sums-k,0) # check for the match!\n",
    "        d[sums] = d.get(sums,0) + 1\n",
    "        \n",
    "    return (count-single_element_matches > 0)"
   ]
  },
  {
   "cell_type": "code",
   "execution_count": 4,
   "metadata": {},
   "outputs": [
    {
     "data": {
      "text/plain": [
       "True"
      ]
     },
     "execution_count": 4,
     "metadata": {},
     "output_type": "execute_result"
    }
   ],
   "source": [
    "subarraySumKmultiple(nums, k)"
   ]
  }
 ],
 "metadata": {
  "kernelspec": {
   "display_name": "Python 3",
   "language": "python",
   "name": "python3"
  },
  "language_info": {
   "codemirror_mode": {
    "name": "ipython",
    "version": 3
   },
   "file_extension": ".py",
   "mimetype": "text/x-python",
   "name": "python",
   "nbconvert_exporter": "python",
   "pygments_lexer": "ipython3",
   "version": "3.8.5"
  }
 },
 "nbformat": 4,
 "nbformat_minor": 4
}

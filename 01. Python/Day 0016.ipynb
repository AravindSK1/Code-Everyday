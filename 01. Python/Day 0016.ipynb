{
 "cells": [
  {
   "cell_type": "markdown",
   "metadata": {},
   "source": [
    "## Binary Search"
   ]
  },
  {
   "cell_type": "code",
   "execution_count": 1,
   "metadata": {},
   "outputs": [],
   "source": [
    "def binary_search(sequence, search_item):\n",
    "    start = 0\n",
    "    end = len(sequence) - 1\n",
    "    \n",
    "    while start <= end:\n",
    "        mid = start + (end - start)//2\n",
    "        mid_val = sequence[mid]\n",
    "\n",
    "        # middle\n",
    "        if mid_val == search_item:\n",
    "            return mid\n",
    "        # left\n",
    "        elif mid_val > search_item:\n",
    "            end = mid - 1\n",
    "        # right\n",
    "        else:\n",
    "            start = mid + 1\n",
    "        \n",
    "    return None"
   ]
  },
  {
   "cell_type": "code",
   "execution_count": 2,
   "metadata": {},
   "outputs": [
    {
     "name": "stdout",
     "output_type": "stream",
     "text": [
      "1\n"
     ]
    }
   ],
   "source": [
    "sequence    = [1,3,4,5]\n",
    "search_item = 3\n",
    "print(binary_search(sequence, search_item))"
   ]
  }
 ],
 "metadata": {
  "kernelspec": {
   "display_name": "Python 3",
   "language": "python",
   "name": "python3"
  },
  "language_info": {
   "codemirror_mode": {
    "name": "ipython",
    "version": 3
   },
   "file_extension": ".py",
   "mimetype": "text/x-python",
   "name": "python",
   "nbconvert_exporter": "python",
   "pygments_lexer": "ipython3",
   "version": "3.8.5"
  }
 },
 "nbformat": 4,
 "nbformat_minor": 4
}

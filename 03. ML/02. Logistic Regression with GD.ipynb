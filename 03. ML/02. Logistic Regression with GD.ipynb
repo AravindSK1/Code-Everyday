{
 "cells": [
  {
   "cell_type": "code",
   "execution_count": 1,
   "metadata": {},
   "outputs": [],
   "source": [
    "import numpy as np\n",
    "from sklearn.datasets import make_blobs"
   ]
  },
  {
   "cell_type": "code",
   "execution_count": 2,
   "metadata": {},
   "outputs": [
    {
     "name": "stdout",
     "output_type": "stream",
     "text": [
      "Cost at iteration 1000 is -0.11912844747650397\n",
      "Cost at iteration 2000 is -0.06673546643653763\n",
      "Cost at iteration 3000 is -0.04673727434273126\n",
      "Cost at iteration 4000 is -0.036193800723848084\n",
      "Cost at iteration 5000 is -0.029669089829471283\n",
      "Cost at iteration 6000 is -0.02522362481696371\n",
      "Cost at iteration 7000 is -0.021993955030403984\n",
      "Cost at iteration 8000 is -0.019537364437466707\n",
      "Cost at iteration 9000 is -0.01760333246346522\n",
      "Cost at iteration 10000 is -0.01603936354430954\n"
     ]
    }
   ],
   "source": [
    "class logisticRegression:\n",
    "    def __init__(self,X):\n",
    "        self.n, self.k = X.shape\n",
    "        self.lr     = 0.0005\n",
    "        self.epochs = 10001\n",
    "        self.w      = np.zeros((self.k,1))\n",
    "        self.bias   = 0\n",
    "        \n",
    "    def predict(self, z):\n",
    "        y_hat = 1/(1+np.exp(-z))\n",
    "        return y_hat\n",
    "    \n",
    "    def cost_function(self, y, y_hat):\n",
    "        return 1/self.n * np.sum((y*np.log(y_hat)) + ((1-y)*np.log(1-y_hat)))\n",
    "    \n",
    "    def gradient_descent(self, X, y, y_hat):\n",
    "        dw = 1/self.n * np.dot(X.T,(y_hat-y))\n",
    "        db = 1/self.n * (np.sum(y_hat-y))\n",
    "        return dw, db\n",
    "    \n",
    "    def run(self, X, y):\n",
    "        for epoch in range(1,self.epochs):\n",
    "            y_pred = self.predict(np.dot(X, self.w) + self.bias)\n",
    "            C      = self.cost_function(y, y_pred)\n",
    "            dw,db  = self.gradient_descent(X, y, y_pred)\n",
    "            \n",
    "            self.w    -= self.lr * dw \n",
    "            self.bias -= self.bias * db\n",
    "            \n",
    "            if epoch % 1000 == 0:\n",
    "                print(f\"Cost at iteration {epoch} is {C}\")\n",
    "                \n",
    "        return self.w, y_pred\n",
    "        \n",
    "    def classification_matrix(self, y, pred_labels):        \n",
    "        tp = sum(((pred_labels == 1) & (y == pred_labels)))[0]\n",
    "        tn = sum(((pred_labels == 0) & (y == pred_labels)))[0]\n",
    "        fp = sum(((pred_labels == 1) & (y != pred_labels)))[0]\n",
    "        fn = sum(((pred_labels == 0) & (y != pred_labels)))[0]\n",
    "        \n",
    "        recall    = tp/(tp+fn)\n",
    "        precision = tp/(tp+fp)\n",
    "        accuracy  = (tp+tn)/(tp+tn+fp+fn)\n",
    "        \n",
    "        f1 = 2*precision*recall/(precision+recall)\n",
    "        \n",
    "        print(f\"Classification Summary :\")\n",
    "        print(f\"True Positives  {tp}\")\n",
    "        print(f\"True Negatives  {tn}\")\n",
    "        print(f\"False Positives {fp}\")\n",
    "        print(f\"False Negatives {fn}\")\n",
    "        print(f\"Precision       {precision}\")\n",
    "        print(f\"Recall          {recall}\")\n",
    "        print(f\"F1 score        {f1}\")\n",
    "        print(f\"Accuracy        {accuracy}\")\n",
    "        \n",
    "if __name__ == \"__main__\":\n",
    "    np.random.seed(1)\n",
    "    X, y = make_blobs(n_samples=1000, centers=2)\n",
    "    y = y[:, np.newaxis]\n",
    "    logreg = logisticRegression(X)\n",
    "    w, y_pred = logreg.run(X, y)"
   ]
  }
 ],
 "metadata": {
  "kernelspec": {
   "display_name": "Python 3",
   "language": "python",
   "name": "python3"
  },
  "language_info": {
   "codemirror_mode": {
    "name": "ipython",
    "version": 3
   },
   "file_extension": ".py",
   "mimetype": "text/x-python",
   "name": "python",
   "nbconvert_exporter": "python",
   "pygments_lexer": "ipython3",
   "version": "3.8.5"
  }
 },
 "nbformat": 4,
 "nbformat_minor": 4
}

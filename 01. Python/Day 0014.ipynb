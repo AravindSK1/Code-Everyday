{
 "cells": [
  {
   "cell_type": "markdown",
   "metadata": {},
   "source": [
    "## Merge two sorted Arrays"
   ]
  },
  {
   "cell_type": "code",
   "execution_count": 1,
   "metadata": {},
   "outputs": [],
   "source": [
    "class mergeSortedArrays():\n",
    "    def __init__(self, a1, a2):\n",
    "        self.arr1 = a1\n",
    "        self.arr2 = a2\n",
    "    \n",
    "    def sort(self):\n",
    "        # pointers\n",
    "        i,j=0,0\n",
    "        # lengths of arrays\n",
    "        len1 = len(self.arr1)\n",
    "        len2 = len(self.arr2)\n",
    "    \n",
    "        # Handle for null input\n",
    "        if len1+len2 == 0: \n",
    "            return self.arr1\n",
    "        # Handle for one element\n",
    "        elif len1+len2 == 1:\n",
    "            if len1>len2:\n",
    "                return self.arr1\n",
    "            else:\n",
    "                return self.arr2\n",
    "        # Sort away!\n",
    "        else:\n",
    "            # array to hold the sorted array\n",
    "            arr = []*(len1+len2)\n",
    "            # element wise comparison\n",
    "            while ((i < len1) and (j < len2)):\n",
    "                if self.arr1[i] < self.arr2[j]:\n",
    "                    arr.append(self.arr1[i])\n",
    "                    i+=1\n",
    "                else:\n",
    "                    arr.append(self.arr2[j])\n",
    "                    j+=1\n",
    "            # Handle for arrays for different lengths\n",
    "            while (i < len1):\n",
    "                arr.append(self.arr1[i])\n",
    "                i+=1\n",
    "            while (j<len2):\n",
    "                arr.append(self.arr2[j])\n",
    "                j+=1\n",
    "            return arr"
   ]
  },
  {
   "cell_type": "code",
   "execution_count": 2,
   "metadata": {},
   "outputs": [
    {
     "data": {
      "text/plain": [
       "[1, 1, 2, 3, 4, 5, 6, 7, 8, 9, 10, 12]"
      ]
     },
     "execution_count": 2,
     "metadata": {},
     "output_type": "execute_result"
    }
   ],
   "source": [
    "a1 = [1,4,6,8,12]\n",
    "a2 = [1,2,3,5,7,9,10]\n",
    "a3 = []\n",
    "a4 = [1]\n",
    "\n",
    "arr = mergeSortedArrays(a1, a2)\n",
    "arr.sort()"
   ]
  }
 ],
 "metadata": {
  "kernelspec": {
   "display_name": "Python 3",
   "language": "python",
   "name": "python3"
  },
  "language_info": {
   "codemirror_mode": {
    "name": "ipython",
    "version": 3
   },
   "file_extension": ".py",
   "mimetype": "text/x-python",
   "name": "python",
   "nbconvert_exporter": "python",
   "pygments_lexer": "ipython3",
   "version": "3.8.5"
  }
 },
 "nbformat": 4,
 "nbformat_minor": 4
}

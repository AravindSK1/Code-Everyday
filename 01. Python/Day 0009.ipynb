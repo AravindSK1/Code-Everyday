{
 "cells": [
  {
   "cell_type": "markdown",
   "metadata": {},
   "source": [
    "### Author : Aravind Senthil Kumar\n",
    "#### Date : 12/10/2020\n",
    "#### Difficulty : 1. Easy"
   ]
  },
  {
   "cell_type": "markdown",
   "metadata": {},
   "source": [
    "Problem : The K Weakest Rows in a Matrix\n",
    "    \n",
    "Given a m * n matrix mat of ones (representing soldiers) and zeros (representing civilians), return the indexes of the k weakest rows in the matrix ordered from the weakest to the strongest.\n",
    "\n",
    "A row i is weaker than row j, if the number of soldiers in row i is less than the number of soldiers in row j, or they have the same number of soldiers but i is less than j. Soldiers are always stand in the frontier of a row, that is, always ones may appear first and then zeros.\n",
    "\n",
    "> Example 1:\n",
    "\n",
    "> Input: mat = \n",
    "[[1,1,0,0,0],\n",
    " [1,1,1,1,0],\n",
    " [1,0,0,0,0],\n",
    " [1,1,0,0,0],\n",
    " [1,1,1,1,1]], \n",
    "    k = 3\n",
    "    \n",
    "> Output: [2,0,3]\n",
    "\n",
    "> Explanation: \n",
    "> - The number of soldiers for each row is: \n",
    "> - row 0 -> 2 \n",
    "> - row 1 -> 4 \n",
    "> - row 2 -> 1 \n",
    "> - row 3 -> 2 \n",
    "> - row 4 -> 5 \n",
    "> - Rows ordered from the weakest to the strongest are [2,0,3,1,4]"
   ]
  },
  {
   "cell_type": "code",
   "execution_count": 1,
   "metadata": {},
   "outputs": [],
   "source": [
    "def kWeakestRows(mat, k):\n",
    "    '''\n",
    "    Approach:\n",
    "    1. Create a dictionary to capture the row number and row sum of the matrix\n",
    "    2. Sort the dictionary based on values\n",
    "    3. Extract k keys\n",
    "    '''\n",
    "    kSortedRows = {}\n",
    "    for index, lst in enumerate(mat):\n",
    "        kSortedRows[index] = sum(lst)\n",
    "        \n",
    "    kSortedRows = sorted(kSortedRows.items(), key = lambda x: x[1])\n",
    "    \n",
    "    return [i[0] for i in kSortedRows][:k]"
   ]
  },
  {
   "cell_type": "code",
   "execution_count": 2,
   "metadata": {},
   "outputs": [],
   "source": [
    "mat = [[1,1,0,0,0], [1,1,1,1,0], [1,0,0,0,0], [1,1,0,0,0], [1,1,1,1,1]]\n",
    "k = 3"
   ]
  },
  {
   "cell_type": "code",
   "execution_count": 3,
   "metadata": {},
   "outputs": [
    {
     "data": {
      "text/plain": [
       "[2, 0, 3]"
      ]
     },
     "execution_count": 3,
     "metadata": {},
     "output_type": "execute_result"
    }
   ],
   "source": [
    "kWeakestRows(mat, k)"
   ]
  }
 ],
 "metadata": {
  "kernelspec": {
   "display_name": "Python 3",
   "language": "python",
   "name": "python3"
  },
  "language_info": {
   "codemirror_mode": {
    "name": "ipython",
    "version": 3
   },
   "file_extension": ".py",
   "mimetype": "text/x-python",
   "name": "python",
   "nbconvert_exporter": "python",
   "pygments_lexer": "ipython3",
   "version": "3.8.5"
  }
 },
 "nbformat": 4,
 "nbformat_minor": 4
}

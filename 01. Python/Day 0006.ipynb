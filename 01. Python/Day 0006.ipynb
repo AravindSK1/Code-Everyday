{
 "cells": [
  {
   "cell_type": "markdown",
   "metadata": {},
   "source": [
    "### Author : Aravind Senthil Kumar\n",
    "#### Date : 12/07/2020\n",
    "#### Difficulty : 1. Easy"
   ]
  },
  {
   "cell_type": "markdown",
   "metadata": {},
   "source": [
    "Given the array nums consisting of 2n elements in the form [x1,x2,...,xn,y1,y2,...,yn].\n",
    "\n",
    "Return the array in the form [x1,y1,x2,y2,...,xn,yn].\n",
    "\n",
    "> Example 1:\n",
    "\n",
    "> Input: nums = [2,5,1,3,4,7], n = 3\n",
    "> Output: [2,3,5,4,1,7] \n",
    "\n",
    "> Explanation: Since x1=2, x2=5, x3=1, y1=3, y2=4, y3=7 then the answer is [2,3,5,4,1,7]."
   ]
  },
  {
   "cell_type": "code",
   "execution_count": 1,
   "metadata": {},
   "outputs": [],
   "source": [
    "def Shuffle(nums, n, approach):\n",
    "    if approach == 1:\n",
    "        '''\n",
    "        Approach 1:\n",
    "        1. Define a range - middle of the array(n) to the length of the array\n",
    "        2. Insert the index at (index - n + ins)^th position\n",
    "        3. Pop the element at index + 1 (Note: we have inserted an element, hence add 1 to remove the element from the list)\n",
    "        4. Increment insert position to adjust for the inserted element\n",
    "        '''\n",
    "        ins = 1\n",
    "        num_length = len(nums)\n",
    "        for index in range(n, num_length):\n",
    "            nums.insert(index - n + ins, nums[index])\n",
    "            nums.pop(index + 1)\n",
    "            ins += 1\n",
    "\n",
    "        return nums\n",
    "    \n",
    "    elif approach == 2:\n",
    "        '''\n",
    "        Approach 2: Using Zip\n",
    "        '''       \n",
    "        \n",
    "        shuffled_array = []\n",
    "        n1 = nums[:n]\n",
    "        n2 = nums[n:]\n",
    "        \n",
    "        for x,y in zip(n1, n2):\n",
    "            shuffled_array += [x,y]\n",
    "            \n",
    "        return shuffled_array"
   ]
  },
  {
   "cell_type": "code",
   "execution_count": 2,
   "metadata": {},
   "outputs": [
    {
     "data": {
      "text/plain": [
       "[2, 1, 5, 3, 4, 7]"
      ]
     },
     "execution_count": 2,
     "metadata": {},
     "output_type": "execute_result"
    }
   ],
   "source": [
    "Shuffle([2,5,1,3,4,7], 2, 1)"
   ]
  }
 ],
 "metadata": {
  "kernelspec": {
   "display_name": "Python 3",
   "language": "python",
   "name": "python3"
  },
  "language_info": {
   "codemirror_mode": {
    "name": "ipython",
    "version": 3
   },
   "file_extension": ".py",
   "mimetype": "text/x-python",
   "name": "python",
   "nbconvert_exporter": "python",
   "pygments_lexer": "ipython3",
   "version": "3.8.5"
  }
 },
 "nbformat": 4,
 "nbformat_minor": 4
}

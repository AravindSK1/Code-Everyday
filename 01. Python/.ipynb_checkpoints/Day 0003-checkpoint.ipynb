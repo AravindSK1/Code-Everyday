{
 "cells": [
  {
   "cell_type": "markdown",
   "metadata": {},
   "source": [
    "### Author : Aravind Senthil Kumar\n",
    "#### Date : 12/04/2020\n",
    "#### Difficulty : 1. Easy and 2. Medium"
   ]
  },
  {
   "cell_type": "markdown",
   "metadata": {},
   "source": [
    "Problem 1: Richest Customer Wealth\n",
    "\n",
    "You are given an m x n integer grid accounts where accounts[i][j] is the amount of money the ith customer has in the j​​​​​​​​​​​th bank. Return the wealth that the richest customer has.\n",
    "\n",
    "A customer's wealth is the amount of money they have in all their bank accounts. The richest customer is the customer that has the maximum wealth."
   ]
  },
  {
   "cell_type": "code",
   "execution_count": 1,
   "metadata": {},
   "outputs": [],
   "source": [
    "def richestCustomerWealth(accounts):\n",
    "    customer = {}\n",
    "    for index, value in enumerate(accounts):\n",
    "        customer[index] = sum(value)\n",
    "    \n",
    "    keymax = max(customer, key = customer.get)\n",
    "    return customer[keymax]"
   ]
  },
  {
   "cell_type": "code",
   "execution_count": 2,
   "metadata": {},
   "outputs": [
    {
     "data": {
      "text/plain": [
       "17"
      ]
     },
     "execution_count": 2,
     "metadata": {},
     "output_type": "execute_result"
    }
   ],
   "source": [
    "accounts = [[2,8,7],[7,1,3],[1,9,5]]\n",
    "\n",
    "\n",
    "richestCustomerWealth(accounts)"
   ]
  },
  {
   "cell_type": "markdown",
   "metadata": {},
   "source": [
    "Problem 2: Corporate Flight Bookings\n",
    "\n",
    "There are n flights, and they are labeled from 1 to n.\n",
    "\n",
    "We have a list of flight bookings.  The i-th booking bookings[i] = [i, j, k] means that we booked k seats from flights labeled i to j inclusive.\n",
    "\n",
    "Return an array answer of length n, representing the number of seats booked on each flight in order of their label."
   ]
  },
  {
   "cell_type": "code",
   "execution_count": 3,
   "metadata": {},
   "outputs": [],
   "source": [
    "## Approach 1:\n",
    "### Though it's easy to understand, it times out for large entries and it's not very efficient\n",
    "def corpFlightBookings(bookings, n):\n",
    "    seatsBooked = {}\n",
    "    for values in bookings:\n",
    "        for flight_num in range(values[0], values[1]+1):\n",
    "            seatsBooked[flight_num] = seatsBooked.get(flight_num,0) + values[2]\n",
    "        \n",
    "    ## Return the seats booked for the flights in the sorted order of the flight number, ie. the keys\n",
    "    return [seatsBooked.get(i,0) for i in range(1,n+1)]\n",
    "\n",
    "## Approach 2:\n",
    "### Range Caching!! \n",
    "\n",
    "''''\n",
    "Steps:\n",
    "1. Create an array of n elements (flights)\n",
    "2. For each flight number present in the bookings start, add the seats in the corresponding array cell\n",
    "3. For each flight number present in the bookings end, subtract the seats from the corresponding array cell\n",
    "3. Calculate running sum - voila!\n",
    "'''\n",
    "\n",
    "def corpFlighBookingsRangeCaching(bookings, n):\n",
    "    flightBookings = [0]*n\n",
    "    \n",
    "    for flight1, flight2, seats_booked in bookings:\n",
    "        flightBookings[flight1-1] += seats_booked\n",
    "        if flight2 < n:\n",
    "            flightBookings[flight2] -= seats_booked\n",
    "  \n",
    "    for i in range(1,n):\n",
    "        flightBookings[i] += flightBookings[i-1]\n",
    "        \n",
    "    return flightBookings"
   ]
  },
  {
   "cell_type": "code",
   "execution_count": 4,
   "metadata": {},
   "outputs": [],
   "source": [
    "bookings = [[1,2,10],[2,3,20],[2,5,25]]\n",
    "n = 5"
   ]
  },
  {
   "cell_type": "code",
   "execution_count": 5,
   "metadata": {},
   "outputs": [
    {
     "data": {
      "text/plain": [
       "[10, 55, 45, 25, 25]"
      ]
     },
     "execution_count": 5,
     "metadata": {},
     "output_type": "execute_result"
    }
   ],
   "source": [
    "corpFlightBookings(bookings, n)"
   ]
  },
  {
   "cell_type": "code",
   "execution_count": 6,
   "metadata": {},
   "outputs": [
    {
     "data": {
      "text/plain": [
       "[10, 55, 45, 25, 25]"
      ]
     },
     "execution_count": 6,
     "metadata": {},
     "output_type": "execute_result"
    }
   ],
   "source": [
    "corpFlighBookingsRangeCaching(bookings, n)"
   ]
  }
 ],
 "metadata": {
  "kernelspec": {
   "display_name": "Python 3",
   "language": "python",
   "name": "python3"
  },
  "language_info": {
   "codemirror_mode": {
    "name": "ipython",
    "version": 3
   },
   "file_extension": ".py",
   "mimetype": "text/x-python",
   "name": "python",
   "nbconvert_exporter": "python",
   "pygments_lexer": "ipython3",
   "version": "3.8.5"
  }
 },
 "nbformat": 4,
 "nbformat_minor": 4
}

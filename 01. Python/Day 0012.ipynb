{
 "cells": [
  {
   "cell_type": "markdown",
   "metadata": {},
   "source": [
    "### Author : Aravind Senthil Kumar\n",
    "#### Date : 03/28/2021\n",
    "#### Difficulty : 1. Easy"
   ]
  },
  {
   "cell_type": "markdown",
   "metadata": {},
   "source": [
    "**Recurring Character**\n",
    "\n",
    "Given a string, return the first recurring character in it, or None if there is no recurring character.\n",
    "\n",
    "Example:\n",
    "\n",
    "input = \"interviewquery\"\n",
    "output = \"i\"\n",
    "\n",
    "input = \"interv\"\n",
    "output = None"
   ]
  },
  {
   "cell_type": "code",
   "execution_count": 1,
   "metadata": {},
   "outputs": [],
   "source": [
    "def recurring_character(x):\n",
    "    # returns none if no recurring character\n",
    "    recurring_character = 'None'\n",
    "    \n",
    "    # iterate through all characters\n",
    "    for index in range(0,len(x)):\n",
    "        # convert string to list of characters\n",
    "        xlist = list(x)\n",
    "        # remove the character to be checked from the list of strings\n",
    "        check_character = xlist.pop(index)\n",
    "        # Check if the removed character is present elsewhere\n",
    "        if check_character in xlist:\n",
    "            # if the character is present in the list, assign it to the recurring character\n",
    "            recurring_character = check_character\n",
    "            # break the loop\n",
    "            break\n",
    "    return recurring_character"
   ]
  },
  {
   "cell_type": "code",
   "execution_count": 2,
   "metadata": {},
   "outputs": [
    {
     "data": {
      "text/plain": [
       "'r'"
      ]
     },
     "execution_count": 2,
     "metadata": {},
     "output_type": "execute_result"
    }
   ],
   "source": [
    "recurring_character('Suriya Prakaa')"
   ]
  }
 ],
 "metadata": {
  "kernelspec": {
   "display_name": "Python 3",
   "language": "python",
   "name": "python3"
  },
  "language_info": {
   "codemirror_mode": {
    "name": "ipython",
    "version": 3
   },
   "file_extension": ".py",
   "mimetype": "text/x-python",
   "name": "python",
   "nbconvert_exporter": "python",
   "pygments_lexer": "ipython3",
   "version": "3.8.5"
  }
 },
 "nbformat": 4,
 "nbformat_minor": 4
}

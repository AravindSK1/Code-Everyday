{
 "cells": [
  {
   "cell_type": "markdown",
   "metadata": {},
   "source": [
    "### Author : Aravind Senthil Kumar\n",
    "#### Date : 12/05/2020\n",
    "#### Difficulty : 1. Medium"
   ]
  },
  {
   "cell_type": "markdown",
   "metadata": {},
   "source": [
    "Problem: Minimum Size Subarray Sum\n",
    "    \n",
    "Given an array of n positive integers and a positive integer s, find the minimal length of a contiguous subarray of which the sum ≥ s. If there isn't one, return 0 instead.\n",
    "\n",
    "> Example: \n",
    "> - Input: s = 7, nums = [2,3,1,2,4,3]\n",
    "> - Output: 2\n",
    "> - Explanation: the subarray [4,3] has the minimal length under the problem constraint."
   ]
  },
  {
   "cell_type": "code",
   "execution_count": 8,
   "metadata": {},
   "outputs": [],
   "source": [
    "def minSubArrayLen(s, nums):\n",
    "    count = 0\n",
    "    sums = 0\n",
    "    rollingSumCounter = {}\n",
    "    rollingSumCounter[0] = 1 # why? when sums - s == 0, add 1. So, we will be calling this from the dictionary\n",
    "    \n",
    "    for index in range(0,len(nums)):\n",
    "        # rolling sum\n",
    "        sums += nums[index]\n",
    "        # if the sums is not equal to s, set the counter to 0, else add 1\n",
    "        # if sums - s is not present in the dictionary, then reset the counter to 0, else get the corresponding entry\n",
    "        count += rollingSumCounter.get(sums-s,0)\n",
    "        # add the rolling sum to the dictionary, if present add 1, if not add the new entry with a count of 1\n",
    "        rollingSumCounter[sums] = rollingSumCounter.get(sums,0) + 1\n",
    "        \n",
    "    return rollingSumCounter"
   ]
  },
  {
   "cell_type": "code",
   "execution_count": 2,
   "metadata": {},
   "outputs": [],
   "source": [
    "s = 7\n",
    "nums = [2,3,1,2,4,3]"
   ]
  },
  {
   "cell_type": "code",
   "execution_count": 10,
   "metadata": {},
   "outputs": [],
   "source": [
    "d = minSubArrayLen(s, nums)"
   ]
  },
  {
   "cell_type": "code",
   "execution_count": 16,
   "metadata": {},
   "outputs": [],
   "source": [
    "d_list = list(d.keys())"
   ]
  },
  {
   "cell_type": "code",
   "execution_count": null,
   "metadata": {},
   "outputs": [],
   "source": []
  }
 ],
 "metadata": {
  "kernelspec": {
   "display_name": "Python 3",
   "language": "python",
   "name": "python3"
  },
  "language_info": {
   "codemirror_mode": {
    "name": "ipython",
    "version": 3
   },
   "file_extension": ".py",
   "mimetype": "text/x-python",
   "name": "python",
   "nbconvert_exporter": "python",
   "pygments_lexer": "ipython3",
   "version": "3.8.5"
  }
 },
 "nbformat": 4,
 "nbformat_minor": 4
}

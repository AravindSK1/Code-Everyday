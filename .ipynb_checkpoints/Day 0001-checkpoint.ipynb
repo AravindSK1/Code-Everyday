{
 "cells": [
  {
   "cell_type": "markdown",
   "metadata": {},
   "source": [
    "### Author : Aravind Senthil Kumar\n",
    "#### Date : 12/2/2020\n",
    "#### Difficulty : Medium"
   ]
  },
  {
   "cell_type": "markdown",
   "metadata": {},
   "source": [
    "Problem Description: Find the smallest positive integer that does not occur in a given sequence.\n",
    "\n",
    "Write a function:\n",
    "\n",
    "def solution(A)\n",
    "\n",
    "that, given an array A of N integers, returns the smallest positive integer (greater than 0) that does not occur in A.\n",
    "\n",
    "For example, given A = [1, 3, 6, 4, 1, 2], the function should return 5.\n",
    "\n",
    "Given A = [1, 2, 3], the function should return 4.\n",
    "\n",
    "Given A = [−1, −3], the function should return 1.\n",
    "\n",
    "Write an efficient algorithm for the following assumptions:\n",
    "\n",
    "N is an integer within the range [1..100,000];\n",
    "each element of array A is an integer within the range [−1,000,000..1,000,000].\n",
    "    "
   ]
  },
  {
   "cell_type": "code",
   "execution_count": 59,
   "metadata": {},
   "outputs": [],
   "source": [
    "def sortSol(A):\n",
    "    A.sort()\n",
    "    for i in range(0,len(A)-1):\n",
    "        if (A[i]+1 != A[i+1]): # Check if the current element and the next element are not consequtive\n",
    "            if (A[i] != A[i+1]): # check if the current element and the next element are not equal\n",
    "                return A[i]+1 # return current element value + 1\n",
    "    return A[i+1]+1 # else return last element value + 1   \n",
    "\n",
    "def solution(A):\n",
    "    if len(A) > 1: # Atleast 2 elements in the array\n",
    "        if (min(A) > 1) or (max(A) < 0): # Handles for all negative array\n",
    "            return 1\n",
    "        elif (min(A) < 0) and (max(A) > 0): # Handles negative and positive mixed array\n",
    "            A = [i for i in A if i >= 0]\n",
    "            return sortSol(A)\n",
    "        else: # Handles all positive array\n",
    "            return sortSol(A)\n",
    "    elif len(A) == 1: # if only one element is present in the array\n",
    "        if A[0] > 0: # if element value greater than 0, return value + 1 \n",
    "            return A[0]+1\n",
    "        else: # else return 1\n",
    "            return 1"
   ]
  },
  {
   "cell_type": "code",
   "execution_count": 60,
   "metadata": {},
   "outputs": [
    {
     "data": {
      "text/plain": [
       "1"
      ]
     },
     "execution_count": 60,
     "metadata": {},
     "output_type": "execute_result"
    }
   ],
   "source": [
    "list_ = [-1,2,3,5,-7,0,8]\n",
    "solution(list_)"
   ]
  }
 ],
 "metadata": {
  "kernelspec": {
   "display_name": "Python 3",
   "language": "python",
   "name": "python3"
  },
  "language_info": {
   "codemirror_mode": {
    "name": "ipython",
    "version": 3
   },
   "file_extension": ".py",
   "mimetype": "text/x-python",
   "name": "python",
   "nbconvert_exporter": "python",
   "pygments_lexer": "ipython3",
   "version": "3.8.5"
  }
 },
 "nbformat": 4,
 "nbformat_minor": 4
}

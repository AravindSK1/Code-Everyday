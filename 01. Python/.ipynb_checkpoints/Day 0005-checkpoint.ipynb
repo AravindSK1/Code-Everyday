{
 "cells": [
  {
   "cell_type": "markdown",
   "metadata": {},
   "source": [
    "### Author : Aravind Senthil Kumar\n",
    "#### Date : 12/7/2020\n",
    "#### Difficulty : 1. Easy"
   ]
  },
  {
   "cell_type": "markdown",
   "metadata": {},
   "source": [
    "Problem : Kids With the Greatest Number of Candies\n",
    "    \n",
    "Given the array candies and the integer extraCandies, where candies[i] represents the number of candies that the ith kid has.\n",
    "\n",
    "For each kid check if there is a way to distribute extraCandies among the kids such that he or she can have the greatest number of candies among them. Notice that multiple kids can have the greatest number of candies.\n",
    "\n",
    "> Example 1:\n",
    "\n",
    "> Input: candies = [2,3,5,1,3], extraCandies = 3\n",
    "> Output: [true,true,true,false,true] \n",
    "\n",
    "> Explanation: \n",
    "> - Kid 1 has 2 candies and if he or she receives all extra candies (3) will have 5 candies --- the greatest number of candies among the kids. \n",
    "> - Kid 2 has 3 candies and if he or she receives at least 2 extra candies will have the greatest number of candies among the kids. \n",
    "> - Kid 3 has 5 candies and this is already the greatest number of candies among the kids. \n",
    "> - Kid 4 has 1 candy and even if he or she receives all extra candies will only have 4 candies. \n",
    "> - Kid 5 has 3 candies and if he or she receives at least 2 extra candies will have the greatest number of candies among the kids. "
   ]
  },
  {
   "cell_type": "code",
   "execution_count": 1,
   "metadata": {},
   "outputs": [],
   "source": [
    "def kidsWithCandies(candies, extraCandies):\n",
    "    # Get the current max\n",
    "    currentMax = max(candies)\n",
    "    \n",
    "    # if the ith candy + the extra candies is greater than or equal to current max, return true else false\n",
    "    return [(c + extraCandies) >= currentMax for c in candies]"
   ]
  },
  {
   "cell_type": "code",
   "execution_count": 2,
   "metadata": {},
   "outputs": [
    {
     "data": {
      "text/plain": [
       "[True, True, True, False, True]"
      ]
     },
     "execution_count": 2,
     "metadata": {},
     "output_type": "execute_result"
    }
   ],
   "source": [
    "# Initialize\n",
    "candies = [2,3,5,1,3]\n",
    "extraCandies = 3\n",
    "\n",
    "# Function call\n",
    "kidsWithCandies(candies, extraCandies)"
   ]
  },
  {
   "cell_type": "code",
   "execution_count": 3,
   "metadata": {},
   "outputs": [],
   "source": [
    "maxItem = max(candies)"
   ]
  }
 ],
 "metadata": {
  "kernelspec": {
   "display_name": "Python 3",
   "language": "python",
   "name": "python3"
  },
  "language_info": {
   "codemirror_mode": {
    "name": "ipython",
    "version": 3
   },
   "file_extension": ".py",
   "mimetype": "text/x-python",
   "name": "python",
   "nbconvert_exporter": "python",
   "pygments_lexer": "ipython3",
   "version": "3.8.5"
  }
 },
 "nbformat": 4,
 "nbformat_minor": 4
}
